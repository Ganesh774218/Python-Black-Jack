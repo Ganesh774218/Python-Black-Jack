{
 "cells": [
  {
   "cell_type": "code",
   "execution_count": 1,
   "id": "8f14df54-be73-4d60-935e-26fdcb4c9496",
   "metadata": {},
   "outputs": [
    {
     "name": "stdout",
     "output_type": "stream",
     "text": [
      "\n",
      "Your hand:\n",
      "Jack of Spades\n",
      "Ace of Spades\n",
      "Total value: 21\n",
      "\n",
      "Dealer's face-up card:\n",
      "7 of Clubs\n"
     ]
    },
    {
     "name": "stdin",
     "output_type": "stream",
     "text": [
      "Do you want to hit or stand?(h/s):  h\n"
     ]
    },
    {
     "name": "stdout",
     "output_type": "stream",
     "text": [
      "You drew: King of Diamonds\n",
      "\n",
      "Your hand:\n",
      "Jack of Spades\n",
      "Ace of Spades\n",
      "King of Diamonds\n",
      "Total value: 21\n",
      "\n",
      "Dealer's face-up card:\n",
      "7 of Clubs\n"
     ]
    },
    {
     "name": "stdin",
     "output_type": "stream",
     "text": [
      "Do you want to hit or stand?(h/s):  h\n"
     ]
    },
    {
     "name": "stdout",
     "output_type": "stream",
     "text": [
      "You drew: Jack of Hearts\n",
      "Bust! You lose.\n"
     ]
    },
    {
     "name": "stdin",
     "output_type": "stream",
     "text": [
      "Do you want to play again? (y/n):  h\n"
     ]
    }
   ],
   "source": [
    "import random\n",
    "suits=[\"Hearts\",\"Diamonds\",\"Clubs\",\"Spades\"]                                      #cards values categories\n",
    "ranks=[\"2\",\"3\",\"4\",\"5\",\"6\",\"7\",\"8\",\"9\",\"10\",\"Jack\",\"Queen\",\"King\",\"Ace\"]          #cards number and types\n",
    "\n",
    "class Card:\n",
    "    def __init__(self,suit,rank):\n",
    "        self.suit=suit\n",
    "        self.rank=rank\n",
    "\n",
    "    def __str__(self):\n",
    "        return f\"{self.rank} of {self.suit}\"\n",
    "\n",
    "class Deck:\n",
    "    def __init__(self):\n",
    "        self.cards=[Card(suit,rank) for suit in suits for rank in ranks]\n",
    "        random.shuffle(self.cards)\n",
    "\n",
    "    def draw(self):\n",
    "        if len(self.cards)>0:\n",
    "            return self.cards.pop()\n",
    "        else:\n",
    "            return None\n",
    "\n",
    "def calculate_hand_value(hand):\n",
    "    value=0\n",
    "    aces=0\n",
    "    for card in hand:\n",
    "        if card.rank in [\"Jack\",\"Queen\",\"King\"]:\n",
    "            value +=10\n",
    "        elif card.rank==\"Ace\":\n",
    "            aces +=1\n",
    "        else:\n",
    "            value +=int(card.rank)\n",
    "    \n",
    "    for _ in range(aces):\n",
    "        if value+11<=21:\n",
    "            value +=11\n",
    "        else:\n",
    "            value +=1\n",
    "    \n",
    "    return value\n",
    "\n",
    "def play_blackjack():\n",
    "    deck=Deck()\n",
    "    player_hand=[]\n",
    "    dealer_hand=[]\n",
    "\n",
    "    player_hand.append(deck.draw())          #initialiting the  deal\n",
    "    dealer_hand.append(deck.draw())\n",
    "    player_hand.append(deck.draw())\n",
    "    dealer_hand.append(deck.draw())\n",
    "\n",
    "\n",
    "    while True:                              #turn of player\n",
    "        print(\"\\nYour hand:\")\n",
    "        for card in player_hand:\n",
    "            print(card)\n",
    "        print(f\"Total value: {calculate_hand_value(player_hand)}\")\n",
    "\n",
    "        print(\"\\nDealer's face-up card:\")\n",
    "        print(dealer_hand[0])\n",
    "\n",
    "        action=input(\"Do you want to hit or stand?(h/s): \").lower()\n",
    "        if action==\"h\":\n",
    "            new_card=deck.draw()\n",
    "            player_hand.append(new_card)\n",
    "            print(f\"You drew: {new_card}\")\n",
    "            if calculate_hand_value(player_hand)>21:\n",
    "                print(\"Bust! You lose.\")\n",
    "                return\n",
    "        elif action==\"s\":\n",
    "            break\n",
    "\n",
    "    while calculate_hand_value(dealer_hand)<17:      #turn of dealer\n",
    "        new_card=deck.draw()\n",
    "        dealer_hand.append(new_card)\n",
    "\n",
    "    player_value=calculate_hand_value(player_hand)  #deciding the winner\n",
    "    dealer_value=calculate_hand_value(dealer_hand)\n",
    "\n",
    "    print(\"\\nYour final hand:\")\n",
    "    for card in player_hand:\n",
    "        print(card)\n",
    "    print(f\"Total value: {player_value}\")\n",
    "\n",
    "    print(\"\\nDealer's final hand:\")\n",
    "    for card in dealer_hand:\n",
    "        print(card)\n",
    "    print(f\"Total value: {dealer_value}\")\n",
    "\n",
    "    if dealer_value>21:\n",
    "        print(\"Dealer busts! You win!\")\n",
    "    elif player_value>dealer_value:\n",
    "        print(\"You win\")\n",
    "    elif player_value<dealer_value:\n",
    "        print(\"Dealer wins\")\n",
    "    else:\n",
    "        print(\"It's a tie\")\n",
    "\n",
    "if __name__ == \"__main__\":\n",
    "    while True:\n",
    "        play_blackjack()\n",
    "        play_again=input(\"Do you want to play again? (y/n): \").lower()\n",
    "        if play_again !=\"y\":\n",
    "            break\n",
    "\n"
   ]
  },
  {
   "cell_type": "code",
   "execution_count": null,
   "id": "bbefcdd9-99d2-4c0c-a3af-bd608de3724b",
   "metadata": {},
   "outputs": [],
   "source": []
  }
 ],
 "metadata": {
  "kernelspec": {
   "display_name": "Python 3 (ipykernel)",
   "language": "python",
   "name": "python3"
  },
  "language_info": {
   "codemirror_mode": {
    "name": "ipython",
    "version": 3
   },
   "file_extension": ".py",
   "mimetype": "text/x-python",
   "name": "python",
   "nbconvert_exporter": "python",
   "pygments_lexer": "ipython3",
   "version": "3.12.7"
  }
 },
 "nbformat": 4,
 "nbformat_minor": 5
}
